{
 "cells": [
  {
   "cell_type": "code",
   "execution_count": 4,
   "metadata": {},
   "outputs": [],
   "source": [
    "import sqlite3\n",
    "\n",
    "db = sqlite3.connect('/home/xilinx/capstone/database.sqlite3')\n",
    "cur = db.cursor()\n",
    "\n",
    "cur.execute('''DROP TABLE IF EXISTS users''')\n",
    "cur.execute('''DROP TABLE IF EXISTS locks''')\n",
    "cur.execute('''DROP TABLE IF EXISTS access_log''')\n",
    "\n",
    "cur.execute('''CREATE TABLE users\n",
    "              (id INTEGER PRIMARY KEY AUTOINCREMENT,\n",
    "              name TEXT,\n",
    "              access_level INTEGER)''')\n",
    "\n",
    "cur.execute('''CREATE TABLE locks\n",
    "              (id INTEGER PRIMARY KEY AUTOINCREMENT,\n",
    "              location TEXT,\n",
    "              access_level INTEGER)''')\n",
    "\n",
    "cur.execute('''CREATE TABLE access_log\n",
    "              (id INTEGER PRIMARY KEY AUTOINCREMENT,\n",
    "              timestamp DATETIME DEFAULT CURRENT_TIMESTAMP,\n",
    "              lock_id INTEGER,\n",
    "              user_id INTEGER,\n",
    "              access_granted BOOLEAN,\n",
    "              img_path TEXT)''')\n",
    "\n",
    "cur.execute('''INSERT INTO users (name, access_level)\n",
    "              VALUES ('Jaynish Patel', 3)''')\n",
    "\n",
    "cur.execute('''INSERT INTO users (name, access_level)\n",
    "              VALUES ('Rajan Patel', 2)''')\n",
    "\n",
    "cur.execute('''INSERT INTO users (name, access_level)\n",
    "              VALUES ('Nikul Patel', 1)''')\n",
    "\n",
    "cur.execute('''INSERT INTO locks (location, access_level)\n",
    "              VALUES ('Demo Box', 2)''')\n",
    "\n",
    "db.commit()\n",
    "db.close()"
   ]
  },
  {
   "cell_type": "code",
   "execution_count": null,
   "metadata": {},
   "outputs": [],
   "source": []
  },
  {
   "cell_type": "code",
   "execution_count": null,
   "metadata": {},
   "outputs": [],
   "source": []
  }
 ],
 "metadata": {
  "kernelspec": {
   "display_name": "Python 3",
   "language": "python",
   "name": "python3"
  },
  "language_info": {
   "codemirror_mode": {
    "name": "ipython",
    "version": 3
   },
   "file_extension": ".py",
   "mimetype": "text/x-python",
   "name": "python",
   "nbconvert_exporter": "python",
   "pygments_lexer": "ipython3",
   "version": "3.6.5"
  }
 },
 "nbformat": 4,
 "nbformat_minor": 2
}
