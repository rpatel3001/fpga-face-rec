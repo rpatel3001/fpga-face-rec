{
 "cells": [
  {
   "cell_type": "code",
   "execution_count": 1,
   "metadata": {},
   "outputs": [
    {
     "name": "stdout",
     "output_type": "stream",
     "text": [
      "Preparing data...\n",
      "Rajan Patel\n",
      "20190328_132336.jpg\n",
      "20190328_132325.jpg\n",
      "test4.jpg\n",
      "20190328_132319.jpg\n",
      "20190328_132322.jpg\n",
      "20190328_132358.jpg\n",
      "Jaynish Patel\n",
      "51437f97df884acfba55008fd4c3d15b.jpeg\n",
      "3e349ec777f744f9afa2098bec582f76.jpeg\n",
      "d4a24b2f91d040a3a7d5c8c621051a26.jpeg\n",
      "test3.jpg\n",
      "7239c68bedfc40218e88fed966c41992.jpeg\n",
      "Nikul Patel\n",
      "test5.jpg\n",
      "IMG2200870852229403207.jpg\n",
      "IMG6564694865294845679.jpg\n",
      "IMG4536445850074440756.jpg\n",
      "IMG5124126177618914142.jpg\n",
      "IMG7199662258560109910.jpg\n",
      "Data prepared\n",
      "Total faces:  17\n",
      "Total labels:  17\n"
     ]
    }
   ],
   "source": [
    "import cv2\n",
    "import os\n",
    "import numpy as np\n",
    "import sqlite3\n",
    "\n",
    "db = sqlite3.connect('/home/xilinx/capstone/database.sqlite3')\n",
    "db.row_factory = sqlite3.Row\n",
    "cur = db.cursor()\n",
    "users = dict([(x['name'], dict(zip(('id', 'access_level'), (x['id'], x['access_level'])))) for x in cur.execute('''select * from users''').fetchall()])\n",
    "\n",
    "def detect_face(img):\n",
    "    #convert the test image to gray image as opencv face detector expects gray images\n",
    "    gray = cv2.cvtColor(img, cv2.COLOR_BGR2GRAY)\n",
    "    \n",
    "    #load OpenCV face detector, I am using LBP which is fast\n",
    "    #there is also a more accurate but slow Haar classifier\n",
    "    face_cascade = cv2.CascadeClassifier('/home/xilinx/capstone/lbpcascade_frontalface.xml')\n",
    "\n",
    "    #let's detect multiscale (some images may be closer to camera than others) images\n",
    "    #result is a list of faces\n",
    "    faces = face_cascade.detectMultiScale(gray, scaleFactor=1.2, minNeighbors=3);\n",
    "    \n",
    "    #if no faces are detected then return original img\n",
    "    if (len(faces) == 0):\n",
    "        return None, None\n",
    "    \n",
    "    #under the assumption that there will be only one face,\n",
    "    #extract the face area\n",
    "    (x, y, w, h) = faces[0]\n",
    "    \n",
    "    #return only the face part of the image\n",
    "    return gray[y:y+w, x:x+h], faces[0]\n",
    "\n",
    "print(\"Preparing data...\")\n",
    "data_folder_path = \"/home/xilinx/capstone/training\"\n",
    "\n",
    "#------STEP-1--------\n",
    "#get the directories (one directory for each subject) in data folder\n",
    "dirs = os.listdir(data_folder_path)\n",
    "\n",
    "#list to hold all subject faces\n",
    "faces = []\n",
    "#list to hold labels for all subjects\n",
    "labels = []\n",
    "\n",
    "dirs = [d for d in dirs if d[0] != '.']\n",
    "\n",
    "#let's go through each directory and read images within it\n",
    "for dir_name in dirs:\n",
    "    print(dir_name)\n",
    "    #build path of directory containin images for current subject subject\n",
    "    #sample subject_dir_path = \"training-data/s1\"\n",
    "    subject_dir_path = data_folder_path + \"/\" + dir_name\n",
    "\n",
    "    #get the images names that are inside the given subject directory\n",
    "    subject_images_names = os.listdir(subject_dir_path)\n",
    "\n",
    "    #------STEP-3--------\n",
    "    #go through each image name, read image, \n",
    "    #detect face and add face to list of faces\n",
    "    for image_name in subject_images_names:\n",
    "\n",
    "        #ignore system files like .DS_Store\n",
    "        if image_name.startswith(\".\"):\n",
    "            continue;\n",
    "        print(image_name)\n",
    "        #build image path\n",
    "        #sample image path = training-data/s1/1.pgm\n",
    "        image_path = subject_dir_path + \"/\" + image_name\n",
    "\n",
    "        #read image\n",
    "        image = cv2.imread(image_path)\n",
    "\n",
    "        #display an image window to show the image \n",
    "        #cv2.imshow(\"Training on image...\", cv2.resize(image, (400, 500)))\n",
    "        #cv2.waitKey(100)\n",
    "\n",
    "        #detect face\n",
    "        face, rect = detect_face(image)\n",
    "\n",
    "        #------STEP-4--------\n",
    "        #for the purpose of this tutorial\n",
    "        #we will ignore faces that are not detected\n",
    "        if face is not None:\n",
    "            #add face to list of faces\n",
    "            faces.append(face)\n",
    "            #add label for this face\n",
    "            labels.append(users[dir_name]['id'])\n",
    "        else:\n",
    "            print(image_path)\n",
    "            \n",
    "\n",
    "print(\"Data prepared\")\n",
    "\n",
    "#print total faces and labels\n",
    "print(\"Total faces: \", len(faces))\n",
    "print(\"Total labels: \", len(labels))\n",
    "\n",
    "face_recognizer = cv2.face.LBPHFaceRecognizer_create()\n",
    "\n",
    "face_recognizer.train(faces, np.array(labels))\n",
    "\n",
    "for dir_name in dirs:\n",
    "    face_recognizer.setLabelInfo(users[dir_name]['id'], dir_name)\n",
    "\n",
    "face_recognizer.write(\"/home/xilinx/capstone/recognizer.dat\")\n"
   ]
  },
  {
   "cell_type": "code",
   "execution_count": 2,
   "metadata": {},
   "outputs": [
    {
     "name": "stdout",
     "output_type": "stream",
     "text": [
      "\n",
      "Jaynish Patel\n",
      "Rajan Patel\n",
      "Nikul Patel\n"
     ]
    }
   ],
   "source": [
    "print(face_recognizer.getLabelInfo(0))\n",
    "print(face_recognizer.getLabelInfo(1))\n",
    "print(face_recognizer.getLabelInfo(2))\n",
    "print(face_recognizer.getLabelInfo(3))"
   ]
  },
  {
   "cell_type": "code",
   "execution_count": 3,
   "metadata": {},
   "outputs": [
    {
     "data": {
      "text/plain": [
       "{'Jaynish Patel': {'access_level': 3, 'id': 1},\n",
       " 'Nikul Patel': {'access_level': 1, 'id': 3},\n",
       " 'Rajan Patel': {'access_level': 2, 'id': 2}}"
      ]
     },
     "execution_count": 3,
     "metadata": {},
     "output_type": "execute_result"
    }
   ],
   "source": [
    "users"
   ]
  },
  {
   "cell_type": "code",
   "execution_count": null,
   "metadata": {},
   "outputs": [],
   "source": []
  }
 ],
 "metadata": {
  "kernelspec": {
   "display_name": "Python 3",
   "language": "python",
   "name": "python3"
  },
  "language_info": {
   "codemirror_mode": {
    "name": "ipython",
    "version": 3
   },
   "file_extension": ".py",
   "mimetype": "text/x-python",
   "name": "python",
   "nbconvert_exporter": "python",
   "pygments_lexer": "ipython3",
   "version": "3.6.5"
  }
 },
 "nbformat": 4,
 "nbformat_minor": 2
}
